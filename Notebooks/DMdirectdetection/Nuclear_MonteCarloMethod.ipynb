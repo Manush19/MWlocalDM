{
 "cells": [
  {
   "cell_type": "code",
   "execution_count": 1,
   "id": "1decf377-877f-47ef-8a46-8f28f29dc562",
   "metadata": {},
   "outputs": [],
   "source": [
    "import pickle\n",
    "import numpy as np\n",
    "import sys,json,os\n",
    "sys.path.append('..')\n",
    "from project.recoil import Nuclear as Nr\n",
    "from project.recoil import p50\n",
    "from tqdm.notebook import tqdm\n",
    "import matplotlib.pyplot as plt\n",
    "import matplotlib\n",
    "matplotlib.rcParams['font.family'] = 'sans'\n",
    "matplotlib.rcParams['mathtext.fontset'] = 'dejavusans'"
   ]
  },
  {
   "cell_type": "code",
   "execution_count": 2,
   "id": "ea9abe2c-85f9-4981-a2c5-584d7177c475",
   "metadata": {},
   "outputs": [],
   "source": [
    "MWdict = pickle.load(open('../Output/MW_dict.pkl','rb'))\n",
    "mwd = MWdict['vdf_RCfit']\n",
    "MWlike_dict = pickle.load(open('../Output/MWlike_dict.pkl','rb'))\n",
    "mwld = MWlike_dict['vdf_RCfit']\n",
    "mwgals = list(mwld.keys())\n",
    "nrd = pickle.load(open('../Output/Nuclear_dict.pkl','rb'))"
   ]
  },
  {
   "cell_type": "markdown",
   "id": "a3e9d3ed-e76c-4536-9ff9-1f522c9e2944",
   "metadata": {},
   "source": [
    "# 2. Monte Carlo Method"
   ]
  },
  {
   "cell_type": "code",
   "execution_count": 3,
   "id": "0057f09f-a6a8-46ad-9c17-581747b4df50",
   "metadata": {},
   "outputs": [],
   "source": [
    "def mk_mocks(key, nr_init='default', Nmocks=1000, seed=5100, \n",
    "             mdm_ori=4., sdm_ori=1e-45):\n",
    "    \"\"\"\n",
    "    This function creates Nmocks number of mock samples as \n",
    "    returned by project.recoil.Nuclear().mocksamples().\n",
    "    Attributes:\n",
    "    ------------\n",
    "    key: (str) keyword for the type of mocks to be made.\n",
    "        possible keys are ['stat', 'MW', 'MWlike']\n",
    "    nr_init: An object of the project.recoil.Nuclear() \n",
    "        namesapce. This is the initial setup from where\n",
    "        the mocks will be created depening on the key.\n",
    "    Nmocks: (int) number of mocks to be made.\n",
    "    seed: (int), this will be used to create Nmocks number\n",
    "        of random seeds for creating the mocks.\n",
    "    mdm_ori, sdm_ori: Original values of m (in GeV) and \n",
    "        σp (in cm^-2) to create mock with.\n",
    "    \"\"\"\n",
    "    np.random.seed(seed=seed)\n",
    "    seeds = np.random.randint(low=1000, high=10000, size=Nmocks)\n",
    "\n",
    "    if nr_init == 'default':\n",
    "        nr_init = Nr('Xe', vE=mwd['vE'], \n",
    "                     vdfE=mwd['vdfE_50'],\n",
    "                     vesc=p50(mwd['vescs']),\n",
    "                     vcirc=p50(mwd['vcircs']),\n",
    "                     rhosun=p50(mwd['rhosuns']),\n",
    "                     Ethr=0.1, Eroi=5.0, ω=10.0)\n",
    "    \n",
    "    mocks, nrs = [], []\n",
    "    for i in tqdm(range(Nmocks)):\n",
    "        if key == 'stat':\n",
    "            nr = nr_init\n",
    "        elif (key == 'MW') or (key == 'MWlike'):\n",
    "            if key == 'MW':\n",
    "                gal_dict = mwd\n",
    "            elif key == 'MWlike':\n",
    "                gal_no = np.random.randin(0, len(mwgals)+1, size=1)\n",
    "                gal_dict = mwd if gal_no == 0 else mwld[mwgals[gal_no]]\n",
    "                \n",
    "            chain_len = len(gal_dict['vdfEs'])\n",
    "            chain_no = np.random.randint(0, chain_len, size=1)[0]\n",
    "            nr = Nr(element=nr_init.element, \n",
    "                    vE=gal_dict['vE'],\n",
    "                    vdfE=gal_dict['vdfEs'][chain_no],\n",
    "                    vesc=gal_dict['vescs'][chain_no],\n",
    "                    vcirc=gal_dict['vcircs'][chain_no],\n",
    "                    rhosun=gal_dict['rhosuns'][chain_no],\n",
    "                    Ethr=nr_init.Ethr, \n",
    "                    Eroi=nr_init.Eroi,\n",
    "                    ω=nr_init.ω)\n",
    "            \n",
    "        mock = nr.mocksample(4., 1e-45, 0.001, Ntot='poisson',\n",
    "                             seed=seeds[i])\n",
    "        nrs.append(nr)\n",
    "        mocks.append(mock)\n",
    "\n",
    "    return (mocks, nrs)"
   ]
  },
  {
   "cell_type": "code",
   "execution_count": 88,
   "id": "9399fc6e-34a8-4756-bf13-f214b2ca3798",
   "metadata": {
    "jupyter": {
     "source_hidden": true
    }
   },
   "outputs": [],
   "source": [
    "from scipy.optimize import minimize, fsolve\n",
    "import math\n",
    "\n",
    "def bl̂_func(bl, *args):\n",
    "    nobs, λsg, ΔE, exp = args\n",
    "    return np.mean(nobs/(λsg + exp*bl*ΔE)) - 1.0\n",
    "\n",
    "def lsdm̂_func(lsdm, *args):\n",
    "    sdm = math.pow(10, lsdm)\n",
    "    nobs, λsg0, ΔE, exp = args\n",
    "    λsg = λsg0*sdm/1e-46\n",
    "    args[1] = λsg\n",
    "    blm = fsolve(bl̂_func, [0.001], args=args)[0]\n",
    "    return nlL1(blm, nobs, λsg, exp)\n",
    "\n",
    "def nlL1(bl, nobs, λsg, exp):\n",
    "    λ = λsg + exp*ΔE*bl\n",
    "    lL = np.sum(nobs*np.log(λ)) - np.sum(λ)\n",
    "    return -lL\n",
    "\n",
    "def get_MLEs(mocks, nr_inits):\n",
    "    \"\"\"\n",
    "    Returns the MLEs of each mocks\n",
    "    Attributes:\n",
    "    ------------\n",
    "    mocks: list of mocks with elements the result of\n",
    "        project.recoil.Nuclear().mocksamples()\n",
    "    nr_inits: list of the nr_init requried for initializing\n",
    "        the class MLE. If len(nr_init) == len(mocks), then,\n",
    "        MLE of mock[i] is found with nr_inits[i]. Else the \n",
    "        first element of nr_inits is fixed for all mock[i]\n",
    "        in mocks. This list must not be empty.\n",
    "    \"\"\"\n",
    "    Mdm, Sdm, Bl = [],[],[]\n",
    "    for i,mock in enumerate(mocks):\n",
    "        if len(nr_inits) == len(mocks):\n",
    "            nr_init = nr_inits[i]\n",
    "        else:\n",
    "            nr_init = nr_inits[0]\n",
    "            \n",
    "        mle = MLE(mock, nr_init)\n",
    "        Mdm.append(mle.mdm̂)\n",
    "        Sdm.append(mle.sdm̂)\n",
    "        Bl.append(mle.bl̂)\n",
    "    return np.array([Mdm, Sdm, Bl]).T\n",
    "    \n",
    "class MLE:\n",
    "    \"\"\"\n",
    "    Finds the Maximum Likelihood Estimators of m, σp, bl.\n",
    "    \"\"\"\n",
    "    def __init__(self, mock, nr_init):\n",
    "        \"\"\"\n",
    "        Initialization...\n",
    "        Attributes\n",
    "        ------------\n",
    "        mock: details of mock sample as returned by \n",
    "            project.recoil.Nuclear().mocksample()\n",
    "        nr_inti: Namesapce of project.recoil.Nuclear() class\n",
    "            which fixes the experimental setup and the VDF \n",
    "            information (defaults to the best fit MW VDF).\n",
    "        \"\"\"\n",
    "        self.mock = mock\n",
    "        self.nr = nr_init\n",
    "        self.Mdm = np.logspace(0,1,10)\n",
    "        self.nobs = self.mock['binned_Esample']\n",
    "        self.ΔE = (self.nr.Eroi - self.nr.Ethr)/self.mock['Nbins']\n",
    "        self.exp = self.nr.exposure\n",
    "\n",
    "        self.λsg0s = self.get_λsg0s()\n",
    "        self.best = self.min_mdmsdmbl()\n",
    "        self.mdm̂, self.sdm̂, self.bl̂ = self.best\n",
    "\n",
    "    def get_λsg0s(self):\n",
    "        λsg0s = []\n",
    "        for mdm in Mdm:\n",
    "            binT = self.nr.binTot(mdm, 1e-46, 0., mock['bin_edges'])\n",
    "            λsg0s.append(binT['Neachbin'])\n",
    "        return λsg0s\n",
    "\n",
    "    def λsg0(self, mdm):\n",
    "        indx = np.where(self.Mdm == mdm)\n",
    "        return self.λsg0s[indx]\n",
    "\n",
    "    def λsg(self, mdm, sdm):\n",
    "        return self.λsg0(mdm)*sdm/1e-46\n",
    "            \n",
    "    def min_bl(self, mdm, sdm):\n",
    "        fsol = fsolve(bl̂_func, x0=[0.001], args=(self.nobs, \n",
    "                                                 self.λsg(mdm, sdm),\n",
    "                                                 self.ΔE, self.exp))\n",
    "        return fsol[0]\n",
    "\n",
    "    def min_sdm(self, mdm):\n",
    "        minz = minimize(lsdm̂_func, x0=[-45], args=(self.nobs, \n",
    "                                                  self.λsg0(mdm),\n",
    "                                                  self.ΔE, self.exp))\n",
    "        return math.pow(10, minz.x[0])\n",
    "\n",
    "    def min_sdmbl(self, mdm):\n",
    "        sdm = self.min_sdm(mdm)\n",
    "        bl = self.min_bl(mdm, sdm)\n",
    "        return (sdm, bl)\n",
    "\n",
    "    def min_mdmsdmbl(self):\n",
    "        Sdm, Bl, Nll = [],[],[]\n",
    "        for mdm in self.Mdm:\n",
    "            sdm = self.min_sdm(mdm)\n",
    "            bl = self.min_bl(mdm, sdm)\n",
    "            nll = nlL1(bl, self.nobs, self.λsg(mdm, sdm), self.exp)\n",
    "            Sdm.append(sdm)\n",
    "            Bl.append(bl)\n",
    "            Nll.append(nll)\n",
    "        Nll = np.array(Nll)\n",
    "        indx = np.where(Nll == np.min(Nll))[0]\n",
    "        return (Mdm[indx], Sdm[indx], Bl[indx])  "
   ]
  },
  {
   "cell_type": "code",
   "execution_count": 5,
   "id": "d34261dd-3413-4653-b942-48edbfa750e0",
   "metadata": {},
   "outputs": [],
   "source": [
    "nr_init = Nr('Xe', vE=mwd['vE'], \n",
    "                     vdfE=mwd['vdfE_50'],\n",
    "                     vesc=p50(mwd['vescs']),\n",
    "                     vcirc=p50(mwd['vcircs']),\n",
    "                     rhosun=p50(mwd['rhosuns']),\n",
    "                     Ethr=0.1, Eroi=5.0, ω=10.0)"
   ]
  },
  {
   "cell_type": "markdown",
   "id": "ac510c41-31e8-4015-a629-72c0046eb970",
   "metadata": {},
   "source": [
    "### a. $\\Delta m_{stat}$"
   ]
  },
  {
   "cell_type": "code",
   "execution_count": 6,
   "id": "39d1c0da-1814-4eb7-8fb3-8423023e728f",
   "metadata": {
    "scrolled": true
   },
   "outputs": [
    {
     "data": {
      "application/vnd.jupyter.widget-view+json": {
       "model_id": "152b102ee0494bde9bc9cc75ad9659dc",
       "version_major": 2,
       "version_minor": 0
      },
      "text/plain": [
       "  0%|          | 0/1000 [00:00<?, ?it/s]"
      ]
     },
     "metadata": {},
     "output_type": "display_data"
    }
   ],
   "source": [
    "stats = mk_mocks('stat', nr_init)\n"
   ]
  },
  {
   "cell_type": "code",
   "execution_count": 7,
   "id": "ea449bbe-559e-4ce7-8cc5-c500e9e615e3",
   "metadata": {},
   "outputs": [],
   "source": [
    "from project.recoil import MLE"
   ]
  },
  {
   "cell_type": "code",
   "execution_count": 8,
   "id": "615d9cc1-185e-488a-96e0-d36f9f7b8b41",
   "metadata": {},
   "outputs": [
    {
     "data": {
      "application/vnd.jupyter.widget-view+json": {
       "model_id": "0cce17e1ca5a4cb892ebaec1eb4787a6",
       "version_major": 2,
       "version_minor": 0
      },
      "text/plain": [
       "  0%|          | 0/1000 [00:00<?, ?it/s]"
      ]
     },
     "metadata": {},
     "output_type": "display_data"
    },
    {
     "name": "stdout",
     "output_type": "stream",
     "text": [
      "Running with chainlen = 508\n",
      "Running with chainlen = 508\n",
      "Running with chainlen = 508\n",
      "Running with chainlen = 508\n"
     ]
    },
    {
     "ename": "KeyboardInterrupt",
     "evalue": "",
     "output_type": "error",
     "traceback": [
      "\u001b[0;31m---------------------------------------------------------------------------\u001b[0m",
      "\u001b[0;31mKeyboardInterrupt\u001b[0m                         Traceback (most recent call last)",
      "Cell \u001b[0;32mIn[8], line 3\u001b[0m\n\u001b[1;32m      1\u001b[0m Mdm, Sdm \u001b[38;5;241m=\u001b[39m [], []\n\u001b[1;32m      2\u001b[0m \u001b[38;5;28;01mfor\u001b[39;00m mock \u001b[38;5;129;01min\u001b[39;00m tqdm(stats[\u001b[38;5;241m0\u001b[39m]):\n\u001b[0;32m----> 3\u001b[0m     mle \u001b[38;5;241m=\u001b[39m \u001b[43mMLE\u001b[49m\u001b[43m(\u001b[49m\u001b[43mmock\u001b[49m\u001b[43m,\u001b[49m\u001b[43m \u001b[49m\u001b[43mnr_init\u001b[49m\u001b[43m,\u001b[49m\u001b[43m \u001b[49m\u001b[43mglobalmin\u001b[49m\u001b[38;5;241;43m=\u001b[39;49m\u001b[38;5;124;43m'\u001b[39;49m\u001b[38;5;124;43mprecise\u001b[39;49m\u001b[38;5;124;43m'\u001b[39;49m\u001b[43m,\u001b[49m\u001b[43m \u001b[49m\u001b[43mlikelihood\u001b[49m\u001b[38;5;241;43m=\u001b[39;49m\u001b[38;5;241;43m1\u001b[39;49m\u001b[43m)\u001b[49m\n",
      "File \u001b[0;32m~/Desktop/Projects/MWlocalDM/MW_VDF/Notebooks/../project/recoil.py:358\u001b[0m, in \u001b[0;36mMLE.__init__\u001b[0;34m(self, mock, nr_init, globalmin, likelihood, **kwargs)\u001b[0m\n\u001b[1;32m    355\u001b[0m \u001b[38;5;28mprint\u001b[39m (\u001b[38;5;124mf\u001b[39m\u001b[38;5;124m'\u001b[39m\u001b[38;5;124mRunning with chainlen = \u001b[39m\u001b[38;5;132;01m{\u001b[39;00m\u001b[38;5;28mself\u001b[39m\u001b[38;5;241m.\u001b[39mchainlen\u001b[38;5;132;01m}\u001b[39;00m\u001b[38;5;124m'\u001b[39m)\n\u001b[1;32m    357\u001b[0m \u001b[38;5;28;01mif\u001b[39;00m globalmin:\n\u001b[0;32m--> 358\u001b[0m     \u001b[38;5;28;43mself\u001b[39;49m\u001b[38;5;241;43m.\u001b[39;49m\u001b[43mglobalmin\u001b[49m\u001b[43m(\u001b[49m\u001b[43mMdm\u001b[49m\u001b[38;5;241;43m=\u001b[39;49m\u001b[43mglobalmin\u001b[49m\u001b[43m)\u001b[49m\n\u001b[1;32m    359\u001b[0m \u001b[38;5;28;01melse\u001b[39;00m:\n\u001b[1;32m    360\u001b[0m     \u001b[38;5;28mself\u001b[39m\u001b[38;5;241m.\u001b[39mran_globalmin \u001b[38;5;241m=\u001b[39m \u001b[38;5;28;01mFalse\u001b[39;00m\n",
      "File \u001b[0;32m~/Desktop/Projects/MWlocalDM/MW_VDF/Notebooks/../project/recoil.py:385\u001b[0m, in \u001b[0;36mMLE.globalmin\u001b[0;34m(self, Mdm)\u001b[0m\n\u001b[1;32m    383\u001b[0m     mdm_hig \u001b[38;5;241m=\u001b[39m Mdm_try2[indx[\u001b[38;5;241m-\u001b[39m\u001b[38;5;241m1\u001b[39m]\u001b[38;5;241m+\u001b[39m\u001b[38;5;241m1\u001b[39m]\n\u001b[1;32m    384\u001b[0m     Mdm_try3 \u001b[38;5;241m=\u001b[39m np\u001b[38;5;241m.\u001b[39mlinspace(mdm_low, mdm_hig, \u001b[38;5;241m10\u001b[39m)\n\u001b[0;32m--> 385\u001b[0m     \u001b[38;5;28;43mself\u001b[39;49m\u001b[38;5;241;43m.\u001b[39;49m\u001b[43mfd_globalmin\u001b[49m\u001b[43m(\u001b[49m\u001b[43mMdm_try3\u001b[49m\u001b[43m)\u001b[49m\n\u001b[1;32m    387\u001b[0m \u001b[38;5;28;01melif\u001b[39;00m \u001b[38;5;28misinstance\u001b[39m(Mdm, np\u001b[38;5;241m.\u001b[39mndarray):\n\u001b[1;32m    388\u001b[0m     \u001b[38;5;28mself\u001b[39m\u001b[38;5;241m.\u001b[39mfd_globalmin(Mdm)\n",
      "File \u001b[0;32m~/Desktop/Projects/MWlocalDM/MW_VDF/Notebooks/../project/recoil.py:394\u001b[0m, in \u001b[0;36mMLE.fd_globalmin\u001b[0;34m(self, Mdm)\u001b[0m\n\u001b[1;32m    392\u001b[0m \u001b[38;5;28;01mdef\u001b[39;00m \u001b[38;5;21mfd_globalmin\u001b[39m(\u001b[38;5;28mself\u001b[39m, Mdm):\n\u001b[1;32m    393\u001b[0m     \u001b[38;5;28mself\u001b[39m\u001b[38;5;241m.\u001b[39mMdm \u001b[38;5;241m=\u001b[39m Mdm\n\u001b[0;32m--> 394\u001b[0m     \u001b[38;5;28mself\u001b[39m\u001b[38;5;241m.\u001b[39mλsg0s \u001b[38;5;241m=\u001b[39m \u001b[38;5;28;43mself\u001b[39;49m\u001b[38;5;241;43m.\u001b[39;49m\u001b[43mget_λsg0s\u001b[49m\u001b[43m(\u001b[49m\u001b[43m)\u001b[49m\n\u001b[1;32m    395\u001b[0m     best \u001b[38;5;241m=\u001b[39m \u001b[38;5;28mself\u001b[39m\u001b[38;5;241m.\u001b[39mget_best()\n\u001b[1;32m    396\u001b[0m     \u001b[38;5;28mself\u001b[39m\u001b[38;5;241m.\u001b[39mSdm, \u001b[38;5;28mself\u001b[39m\u001b[38;5;241m.\u001b[39mNll \u001b[38;5;241m=\u001b[39m best\n",
      "File \u001b[0;32m~/Desktop/Projects/MWlocalDM/MW_VDF/Notebooks/../project/recoil.py:464\u001b[0m, in \u001b[0;36mMLE.get_λsg0s\u001b[0;34m(self)\u001b[0m\n\u001b[1;32m    462\u001b[0m λsg0s \u001b[38;5;241m=\u001b[39m []\n\u001b[1;32m    463\u001b[0m \u001b[38;5;28;01mfor\u001b[39;00m mdm \u001b[38;5;129;01min\u001b[39;00m \u001b[38;5;28mself\u001b[39m\u001b[38;5;241m.\u001b[39mMdm:\n\u001b[0;32m--> 464\u001b[0m     binT \u001b[38;5;241m=\u001b[39m \u001b[38;5;28;43mself\u001b[39;49m\u001b[38;5;241;43m.\u001b[39;49m\u001b[43mnr\u001b[49m\u001b[38;5;241;43m.\u001b[39;49m\u001b[43mbinTot\u001b[49m\u001b[43m(\u001b[49m\u001b[43mmdm\u001b[49m\u001b[43m,\u001b[49m\u001b[43m \u001b[49m\u001b[38;5;241;43m1e-46\u001b[39;49m\u001b[43m,\u001b[49m\u001b[43m \u001b[49m\u001b[38;5;241;43m0.\u001b[39;49m\u001b[43m,\u001b[49m\n\u001b[1;32m    465\u001b[0m \u001b[43m                          \u001b[49m\u001b[38;5;28;43mself\u001b[39;49m\u001b[38;5;241;43m.\u001b[39;49m\u001b[43mmock\u001b[49m\u001b[43m[\u001b[49m\u001b[38;5;124;43m'\u001b[39;49m\u001b[38;5;124;43mbin_edges\u001b[39;49m\u001b[38;5;124;43m'\u001b[39;49m\u001b[43m]\u001b[49m\u001b[43m)\u001b[49m\n\u001b[1;32m    466\u001b[0m     λsg0s\u001b[38;5;241m.\u001b[39mappend(binT[\u001b[38;5;124m'\u001b[39m\u001b[38;5;124mNeachbin\u001b[39m\u001b[38;5;124m'\u001b[39m])\n\u001b[1;32m    467\u001b[0m \u001b[38;5;28;01mreturn\u001b[39;00m λsg0s\n",
      "File \u001b[0;32m~/Desktop/Projects/MWlocalDM/MW_VDF/Notebooks/../project/recoil.py:256\u001b[0m, in \u001b[0;36mNuclear.binTot\u001b[0;34m(self, mdm, σp, bl, bin_edges, accuracy)\u001b[0m\n\u001b[1;32m    254\u001b[0m \u001b[38;5;28;01mfor\u001b[39;00m i \u001b[38;5;129;01min\u001b[39;00m \u001b[38;5;28mrange\u001b[39m(Nbins):\n\u001b[1;32m    255\u001b[0m     E \u001b[38;5;241m=\u001b[39m np\u001b[38;5;241m.\u001b[39mlinspace(bin_edges[i], bin_edges[i \u001b[38;5;241m+\u001b[39m \u001b[38;5;241m1\u001b[39m], accuracy)\n\u001b[0;32m--> 256\u001b[0m     bint[i] \u001b[38;5;241m=\u001b[39m \u001b[38;5;28;43mself\u001b[39;49m\u001b[38;5;241;43m.\u001b[39;49m\u001b[43mtotNtot\u001b[49m\u001b[43m(\u001b[49m\u001b[43mmdm\u001b[49m\u001b[43m,\u001b[49m\u001b[43m \u001b[49m\u001b[43mσp\u001b[49m\u001b[43m,\u001b[49m\u001b[43m \u001b[49m\u001b[43mbl\u001b[49m\u001b[43m,\u001b[49m\u001b[43m \u001b[49m\u001b[43mE\u001b[49m\u001b[43m \u001b[49m\u001b[38;5;241;43m=\u001b[39;49m\u001b[43m \u001b[49m\u001b[43mE\u001b[49m\u001b[43m)\u001b[49m\n\u001b[1;32m    257\u001b[0m     Eint[i] \u001b[38;5;241m=\u001b[39m \u001b[38;5;241m0.5\u001b[39m\u001b[38;5;241m*\u001b[39m(bin_edges[i] \u001b[38;5;241m+\u001b[39m bin_edges[i \u001b[38;5;241m+\u001b[39m \u001b[38;5;241m1\u001b[39m])\n\u001b[1;32m    258\u001b[0m bint[bint \u001b[38;5;241m<\u001b[39m\u001b[38;5;241m=\u001b[39m \u001b[38;5;241m0\u001b[39m] \u001b[38;5;241m=\u001b[39m \u001b[38;5;241m1e-32\u001b[39m\n",
      "File \u001b[0;32m~/Desktop/Projects/MWlocalDM/MW_VDF/Notebooks/../project/recoil.py:220\u001b[0m, in \u001b[0;36mNuclear.totNtot\u001b[0;34m(self, mdm, σp, bl, **kwargs)\u001b[0m\n\u001b[1;32m    219\u001b[0m \u001b[38;5;28;01mdef\u001b[39;00m \u001b[38;5;21mtotNtot\u001b[39m(\u001b[38;5;28mself\u001b[39m, mdm, σp, bl\u001b[38;5;241m=\u001b[39m\u001b[38;5;241m0.\u001b[39m, \u001b[38;5;241m*\u001b[39m\u001b[38;5;241m*\u001b[39mkwargs):\n\u001b[0;32m--> 220\u001b[0m     \u001b[38;5;28;01mreturn\u001b[39;00m \u001b[38;5;28;43mself\u001b[39;49m\u001b[38;5;241;43m.\u001b[39;49m\u001b[43mtotNsg\u001b[49m\u001b[43m(\u001b[49m\u001b[43mmdm\u001b[49m\u001b[43m,\u001b[49m\u001b[43m \u001b[49m\u001b[43mσp\u001b[49m\u001b[43m,\u001b[49m\u001b[43m \u001b[49m\u001b[38;5;241;43m*\u001b[39;49m\u001b[38;5;241;43m*\u001b[39;49m\u001b[43mkwargs\u001b[49m\u001b[43m)\u001b[49m \u001b[38;5;241m+\u001b[39m \u001b[38;5;28mself\u001b[39m\u001b[38;5;241m.\u001b[39mtotNbg(bl, \u001b[38;5;241m*\u001b[39m\u001b[38;5;241m*\u001b[39mkwargs)\n",
      "File \u001b[0;32m~/Desktop/Projects/MWlocalDM/MW_VDF/Notebooks/../project/recoil.py:208\u001b[0m, in \u001b[0;36mNuclear.totNsg\u001b[0;34m(self, mdm, σp, **kwargs)\u001b[0m\n\u001b[1;32m    206\u001b[0m E \u001b[38;5;241m=\u001b[39m E[E \u001b[38;5;241m>\u001b[39m\u001b[38;5;241m=\u001b[39m Ethr]\n\u001b[1;32m    207\u001b[0m exposure \u001b[38;5;241m=\u001b[39m \u001b[38;5;241m1e3\u001b[39m\u001b[38;5;241m*\u001b[39m\u001b[38;5;241m365\u001b[39m\u001b[38;5;241m*\u001b[39mω\n\u001b[0;32m--> 208\u001b[0m \u001b[38;5;28;01mreturn\u001b[39;00m exposure\u001b[38;5;241m*\u001b[39mnp\u001b[38;5;241m.\u001b[39mtrapz(\u001b[38;5;28;43mself\u001b[39;49m\u001b[38;5;241;43m.\u001b[39;49m\u001b[43mdiffSg\u001b[49m\u001b[43m(\u001b[49m\u001b[43mmdm\u001b[49m\u001b[43m,\u001b[49m\u001b[43m \u001b[49m\u001b[43mσp\u001b[49m\u001b[43m,\u001b[49m\u001b[43m \u001b[49m\u001b[43mE\u001b[49m\u001b[43m \u001b[49m\u001b[38;5;241;43m=\u001b[39;49m\u001b[43m \u001b[49m\u001b[43mE\u001b[49m\u001b[43m)\u001b[49m, E)\n",
      "File \u001b[0;32m~/Desktop/Projects/MWlocalDM/MW_VDF/Notebooks/../project/recoil.py:189\u001b[0m, in \u001b[0;36mNuclear.diffSg\u001b[0;34m(self, mdm, σp, **kwargs)\u001b[0m\n\u001b[1;32m    187\u001b[0m \u001b[38;5;28;01mfor\u001b[39;00m E_ \u001b[38;5;129;01min\u001b[39;00m E:\n\u001b[1;32m    188\u001b[0m     vmin \u001b[38;5;241m=\u001b[39m np\u001b[38;5;241m.\u001b[39msqrt(\u001b[38;5;28mself\u001b[39m\u001b[38;5;241m.\u001b[39mmT\u001b[38;5;241m*\u001b[39mE_\u001b[38;5;241m*\u001b[39m\u001b[38;5;241m1e-6\u001b[39m\u001b[38;5;241m/\u001b[39m(\u001b[38;5;241m2\u001b[39m\u001b[38;5;241m*\u001b[39mμT\u001b[38;5;241m*\u001b[39m\u001b[38;5;241m*\u001b[39m\u001b[38;5;241m2\u001b[39m)) \u001b[38;5;241m*\u001b[39m \u001b[38;5;28mself\u001b[39m\u001b[38;5;241m.\u001b[39munit_vmin\n\u001b[0;32m--> 189\u001b[0m     η \u001b[38;5;241m=\u001b[39m \u001b[38;5;28;43mself\u001b[39;49m\u001b[38;5;241;43m.\u001b[39;49m\u001b[43mvelInt\u001b[49m\u001b[43m(\u001b[49m\u001b[43m[\u001b[49m\u001b[43mvmin\u001b[49m\u001b[43m]\u001b[49m\u001b[43m)\u001b[49m\n\u001b[1;32m    191\u001b[0m     rate\u001b[38;5;241m.\u001b[39mappend(\u001b[38;5;28mself\u001b[39m\u001b[38;5;241m.\u001b[39mpreFactor(mdm, σp, E_) \u001b[38;5;241m*\u001b[39m η[\u001b[38;5;241m0\u001b[39m])\n\u001b[1;32m    192\u001b[0m \u001b[38;5;28;01mreturn\u001b[39;00m np\u001b[38;5;241m.\u001b[39marray(rate) \u001b[38;5;241m*\u001b[39m \u001b[38;5;28mself\u001b[39m\u001b[38;5;241m.\u001b[39munit_prefactor \u001b[38;5;241m*\u001b[39m \u001b[38;5;28mself\u001b[39m\u001b[38;5;241m.\u001b[39munit_η\n",
      "File \u001b[0;32m~/Desktop/Projects/MWlocalDM/MW_VDF/Notebooks/../project/recoil.py:168\u001b[0m, in \u001b[0;36mNuclear.velInt\u001b[0;34m(self, vmin)\u001b[0m\n\u001b[1;32m    166\u001b[0m     idg2 \u001b[38;5;241m=\u001b[39m \u001b[38;5;28mself\u001b[39m\u001b[38;5;241m.\u001b[39mvdf_e[idx2]\n\u001b[1;32m    167\u001b[0m     v2 \u001b[38;5;241m=\u001b[39m \u001b[38;5;28mself\u001b[39m\u001b[38;5;241m.\u001b[39mve[idx2]\n\u001b[0;32m--> 168\u001b[0m     int2 \u001b[38;5;241m=\u001b[39m \u001b[43mnp\u001b[49m\u001b[38;5;241;43m.\u001b[39;49m\u001b[43mtrapz\u001b[49m\u001b[43m(\u001b[49m\u001b[43midg2\u001b[49m\u001b[38;5;241;43m/\u001b[39;49m\u001b[43mv2\u001b[49m\u001b[43m,\u001b[49m\u001b[43m \u001b[49m\u001b[43mv2\u001b[49m\u001b[43m)\u001b[49m\n\u001b[1;32m    169\u001b[0m \u001b[38;5;28;01melse\u001b[39;00m:\n\u001b[1;32m    170\u001b[0m     int2 \u001b[38;5;241m=\u001b[39m \u001b[38;5;241m0\u001b[39m\n",
      "File \u001b[0;32m~/Desktop/Projects/MWlocalDM/MW_VDF/prjenv/lib/python3.10/site-packages/numpy/lib/function_base.py:4966\u001b[0m, in \u001b[0;36mtrapz\u001b[0;34m(y, x, dx, axis)\u001b[0m\n\u001b[1;32m   4964\u001b[0m x \u001b[38;5;241m=\u001b[39m asanyarray(x)\n\u001b[1;32m   4965\u001b[0m \u001b[38;5;28;01mif\u001b[39;00m x\u001b[38;5;241m.\u001b[39mndim \u001b[38;5;241m==\u001b[39m \u001b[38;5;241m1\u001b[39m:\n\u001b[0;32m-> 4966\u001b[0m     d \u001b[38;5;241m=\u001b[39m \u001b[43mdiff\u001b[49m\u001b[43m(\u001b[49m\u001b[43mx\u001b[49m\u001b[43m)\u001b[49m\n\u001b[1;32m   4967\u001b[0m     \u001b[38;5;66;03m# reshape to correct shape\u001b[39;00m\n\u001b[1;32m   4968\u001b[0m     shape \u001b[38;5;241m=\u001b[39m [\u001b[38;5;241m1\u001b[39m]\u001b[38;5;241m*\u001b[39my\u001b[38;5;241m.\u001b[39mndim\n",
      "File \u001b[0;32m~/Desktop/Projects/MWlocalDM/MW_VDF/prjenv/lib/python3.10/site-packages/numpy/lib/function_base.py:1444\u001b[0m, in \u001b[0;36mdiff\u001b[0;34m(a, n, axis, prepend, append)\u001b[0m\n\u001b[1;32m   1441\u001b[0m     a \u001b[38;5;241m=\u001b[39m np\u001b[38;5;241m.\u001b[39mconcatenate(combined, axis)\n\u001b[1;32m   1443\u001b[0m slice1 \u001b[38;5;241m=\u001b[39m [\u001b[38;5;28mslice\u001b[39m(\u001b[38;5;28;01mNone\u001b[39;00m)] \u001b[38;5;241m*\u001b[39m nd\n\u001b[0;32m-> 1444\u001b[0m slice2 \u001b[38;5;241m=\u001b[39m [\u001b[38;5;28;43mslice\u001b[39;49m\u001b[43m(\u001b[49m\u001b[38;5;28;43;01mNone\u001b[39;49;00m\u001b[43m)\u001b[49m] \u001b[38;5;241m*\u001b[39m nd\n\u001b[1;32m   1445\u001b[0m slice1[axis] \u001b[38;5;241m=\u001b[39m \u001b[38;5;28mslice\u001b[39m(\u001b[38;5;241m1\u001b[39m, \u001b[38;5;28;01mNone\u001b[39;00m)\n\u001b[1;32m   1446\u001b[0m slice2[axis] \u001b[38;5;241m=\u001b[39m \u001b[38;5;28mslice\u001b[39m(\u001b[38;5;28;01mNone\u001b[39;00m, \u001b[38;5;241m-\u001b[39m\u001b[38;5;241m1\u001b[39m)\n",
      "\u001b[0;31mKeyboardInterrupt\u001b[0m: "
     ]
    }
   ],
   "source": [
    "Mdm, Sdm = [], []\n",
    "for mock in tqdm(stats[0]):\n",
    "    mle = MLE(mock, nr_init, globalmin='precise', likelihood=1)"
   ]
  },
  {
   "cell_type": "code",
   "execution_count": null,
   "id": "f014e7b2-7f98-4abc-95f5-8b6d0e81b779",
   "metadata": {},
   "outputs": [],
   "source": []
  }
 ],
 "metadata": {
  "kernelspec": {
   "display_name": "Python 3 (ipykernel)",
   "language": "python",
   "name": "python3"
  },
  "language_info": {
   "codemirror_mode": {
    "name": "ipython",
    "version": 3
   },
   "file_extension": ".py",
   "mimetype": "text/x-python",
   "name": "python",
   "nbconvert_exporter": "python",
   "pygments_lexer": "ipython3",
   "version": "3.10.12"
  }
 },
 "nbformat": 4,
 "nbformat_minor": 5
}
