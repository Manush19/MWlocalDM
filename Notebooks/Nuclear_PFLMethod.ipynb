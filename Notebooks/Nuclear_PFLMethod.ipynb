{
 "cells": [
  {
   "cell_type": "code",
   "execution_count": 691,
   "id": "6a38f94a-b7d7-4300-a362-29a53b055d03",
   "metadata": {},
   "outputs": [],
   "source": [
    "import numpy as np\n",
    "import scipy as sp\n",
    "from scipy.optimize import minimize, fsolve, bisect\n",
    "import matplotlib.pyplot as plt\n",
    "import sys, json, os\n",
    "sys.path.append('..')\n",
    "from project.constants import Constants as pc\n",
    "from project.recoil import Nuclear as Nr\n",
    "from project.recoil import get_vdf_ert, norm, p50\n",
    "import project.plot_assist as pa\n",
    "import pickle\n",
    "from tqdm.notebook import tqdm\n",
    "from scipy.optimize import fsolve\n",
    "from multiprocessing import Pool, cpu_count\n",
    "import math\n",
    "\n",
    "import matplotlib\n",
    "matplotlib.rcParams['font.family'] = 'sans'\n",
    "matplotlib.rcParams['mathtext.fontset'] = 'dejavusans'\n",
    "\n",
    "import warnings\n",
    "warnings.filterwarnings(\"ignore\", message=\"Attempt to set non-positive ylim on a log-scaled axis will be ignored.\")"
   ]
  },
  {
   "cell_type": "code",
   "execution_count": 606,
   "id": "aef2485d-fe96-4817-8d56-e5ec9ae0ac4a",
   "metadata": {},
   "outputs": [],
   "source": [
    "sparcd = json.load(open('../Accessory/sparc_dict.json','rb'))['lcdm_reg']\n",
    "MW_dict = pickle.load(open('../Output/MW_dict.pkl','rb'))\n",
    "MWlike = pickle.load(open('../Output/MWlike_dict.pkl','rb'))\n",
    "mwd = MW_dict['vdf_RCfit']\n",
    "mwgals = MWlike['mwgals']\n",
    "mwld = MWlike['vdf_RCfit']\n",
    "nrd = pickle.load(open('../Output/Nuclear_dict.pkl','rb'))"
   ]
  },
  {
   "cell_type": "code",
   "execution_count": 608,
   "id": "c3042cbb-0eb8-4922-9596-7b506b0b9495",
   "metadata": {},
   "outputs": [
    {
     "data": {
      "text/plain": [
       "dict_keys(['nlL1'])"
      ]
     },
     "execution_count": 608,
     "metadata": {},
     "output_type": "execute_result"
    }
   ],
   "source": [
    "nrd['pfl'].keys()"
   ]
  },
  {
   "cell_type": "markdown",
   "id": "c96d42e7-d881-490f-ba2f-2c2dfc6da8de",
   "metadata": {},
   "source": [
    "# 1. Profile likelihood method"
   ]
  },
  {
   "cell_type": "markdown",
   "id": "1ac92c13-5e7c-430f-b197-37a2310b7be9",
   "metadata": {},
   "source": [
    "### (i) statistical uncertainity: $$\\mathcal{L}_1(m,\\, \\sigma_p,\\, b_l) = \\prod_{i = 1}^\\mathrm{N_{bins}}n_i\\,\\mathrm{ln}\\lambda_i - \\sum_{i=0}^\\mathrm{N_{bins}}\\lambda_i; \\,\\,\\,\\, \\text{\\, where},\\, \\lambda_i \\equiv \\lambda_i(m,\\, \\sigma_p,\\, b_l,\\, \\bar{\\Theta}^{(0)}_\\mathrm{MW})$$"
   ]
  },
  {
   "cell_type": "code",
   "execution_count": 848,
   "id": "310e6cae-1193-49ed-bd9c-375da8ffcc7a",
   "metadata": {},
   "outputs": [],
   "source": [
    "class MLE:\n",
    "    def __init__(self, mock, nr_init, globalmin='smart', \n",
    "                 likelihood=1, **kwargs):\n",
    "        self.mock = mock\n",
    "        self.nr = nr_init\n",
    "        self.nobs = self.mock['binned_Esample']\n",
    "        self.ΔE = (self.nr.Eroi - self.nr.Ethr)/self.mock['Nbins']\n",
    "        self.exp = self.nr.exposure\n",
    "\n",
    "        if likelihood == 1:\n",
    "            self.nlL = self.nlL1\n",
    "        elif likelihood == 2:\n",
    "            if 'gal' in kwargs.keys():\n",
    "                self.gal = gal\n",
    "                self.get_mwD(gal)\n",
    "            else:\n",
    "                print ('Provide a valide keyword argument: gal')\n",
    "            if 'idx' in kwargs.keys():\n",
    "                self.idx = idx\n",
    "            else:\n",
    "                print ('Provide a valide keyword argument: idx')\n",
    "            self.nlL = self.nlL2\n",
    "        \n",
    "        if globalmin:\n",
    "            self.globalmin(Mdm=globalmin)\n",
    "        else:\n",
    "            self.ran_globalmin = False\n",
    "\n",
    "    def nlL1(self, mdm, sdm, bl):\n",
    "        λ = self.λsg(mdm, sdm) + self.exp*self.ΔE*bl\n",
    "        lL = np.sum(self.nobs*np.log(λ)) - np.sum(λ)\n",
    "        return -lL\n",
    "\n",
    "    def nlL2(self, mdm, sdm, bl):\n",
    "        nobs, λsg, ΔE, exp, idx, mwD = args\n",
    "        λ = self.λsg(mdm, sdm) + self.exp*self.ΔE*bl\n",
    "        lL = np.sum(self.nobs*np.log(λ)) - np.sum(λ)\n",
    "        lL += np.log(np.prod(self.mwD['par_pdfs'][self.idx]))\n",
    "        return -lL\n",
    "\n",
    "    def globalmin(self, Mdm = 'smart'):\n",
    "        self.ran_globalmin = True\n",
    "        if isinstance(Mdm, str) and Mdm == 'smart':\n",
    "            Mdm_try1 = np.linspace(1,10,20)\n",
    "            self.fd_globalmin(Mdm_try1)\n",
    "            indx = np.where(self.Tq <= 5.99)[0]\n",
    "            mdm_low = Mdm_try1[indx[0]-1]\n",
    "            mdm_hig = Mdm_try1[indx[-1]+1]           \n",
    "            Mdm_try2 = np.linspace(mdm_low, mdm_hig, 100)\n",
    "            self.fd_globalmin(Mdm_try2)\n",
    "\n",
    "        elif isinstance(Mdm, str) and Mdm == 'precise':\n",
    "            Mdm_try1 = np.linspace(1,10,20)\n",
    "            self.fd_globalmin(Mdm_try1)\n",
    "            indx = np.where(self.Tq == np.min(self.Tq))[0]\n",
    "            mdm_low = Mdm_try1[indx[0]-1]\n",
    "            mdm_hig = Mdm_try1[indx[-1]+1]\n",
    "            Mdm_try2 = np.linspace(mdm_low, mdm_hig, 10)\n",
    "            self.fd_globalmin(Mdm_try2)\n",
    "            indx = np.where(self.Tq == np.min(self.Tq))[0]\n",
    "            mdm_low = Mdm_try2[indx[0]-1]\n",
    "            mdm_hig = Mdm_try2[indx[-1]+1]\n",
    "            Mdm_try3 = np.linspace(mdm_low, mdm_hig, 10)\n",
    "            self.fd_globalmin(Mdm_try3)\n",
    "\n",
    "        elif isinstance(Mdm, np.ndarray):\n",
    "            self.fd_globalmin(Mdm)\n",
    "        else:\n",
    "            self.fd_globalmin(np.linspace(1,10,10))\n",
    "\n",
    "    def fd_globalmin(self, Mdm):\n",
    "        self.Mdm = Mdm\n",
    "        self.λsg0s = self.get_λsg0s()\n",
    "        best = self.get_best()\n",
    "        self.Sdm, self.Bl, self.Nll = best\n",
    "\n",
    "        self.minindx = np.where(self.Nll == np.min(self.Nll))[0][0]\n",
    "        self.mdm_min = self.Mdm[self.minindx]\n",
    "        self.sdm_min = self.Sdm[self.minindx]\n",
    "        self.nll_min = self.Nll[self.minindx]\n",
    "        self.bl_min = self.Bl[self.minindx]\n",
    "        self.Tq = 2*(self.Nll - self.nll_min)\n",
    "\n",
    "    def get_limits(self, tq_limit=5.99):\n",
    "        if not self.ran_globalmin:\n",
    "            print ('self.globalmin() is running for the first time')\n",
    "            self.globalmin()\n",
    "            \n",
    "        Mdm_ = []\n",
    "        Sdm_upp = []\n",
    "        Sdm_low = []\n",
    "        for i,mdm in enumerate(self.Mdm):\n",
    "            if self.Tq[i] > 5.99:\n",
    "                continue\n",
    "            def func(lsdm):\n",
    "                nll = self.lsdm̂_func(lsdm, mdm)\n",
    "                tq = 2*(nll - self.nll_min)\n",
    "                return tq - tq_limit\n",
    "            solupp = bisect(func, np.log10(self.Sdm[i]), -44)\n",
    "            sollow = bisect(func, -46, np.log10(self.Sdm[i]))\n",
    "            \n",
    "            Sdm_upp.append(math.pow(10, solupp))\n",
    "            Sdm_low.append(math.pow(10, sollow))\n",
    "            Mdm_.append(mdm)\n",
    "        return [np.array(Mdm_), np.array(Sdm_upp), \n",
    "                np.array(Sdm_low)]\n",
    "\n",
    "    def get_mwD(self, gal):\n",
    "        if gal == 'MW':\n",
    "            self.mwD = mwd\n",
    "        elif gal in mwgals:\n",
    "            self.mwD = mwld[gal]\n",
    "        else:\n",
    "            print (f'gal = {gal} is not MW or MWlike')\n",
    "\n",
    "    def get_λsg0s(self):\n",
    "        λsg0s = []\n",
    "        for mdm in self.Mdm:\n",
    "            binT = self.nr.binTot(mdm, 1e-46, 0., mock['bin_edges'])\n",
    "            λsg0s.append(binT['Neachbin'])\n",
    "        return λsg0s\n",
    "\n",
    "    def λsg0(self, mdm):\n",
    "        indx = np.where(self.Mdm == mdm)[0][0]\n",
    "        return self.λsg0s[indx]\n",
    "\n",
    "    def λsg(self, mdm, sdm):\n",
    "        return self.λsg0(mdm)*sdm/1e-46\n",
    "\n",
    "    def bl̂_func(self, bl, *args):\n",
    "        mdm, sdm = args\n",
    "        λ = self.λsg(mdm,sdm) + self.exp*bl*self.ΔE\n",
    "        return np.mean(self.nobs/λ) - 1.0\n",
    "\n",
    "    def lsdm̂_func(self, lsdm, *args):\n",
    "        sdm = math.pow(10, lsdm)\n",
    "        mdm = args\n",
    "        blm = fsolve(self.bl̂_func, [0.001], args=(mdm, sdm))[0]\n",
    "        return self.nlL(mdm, sdm, blm)\n",
    "\n",
    "    def min_bl(self, mdm, sdm):\n",
    "        fsol = fsolve(self.bl̂_func, x0=[0.001], args=(mdm, sdm))\n",
    "        return fsol[0]\n",
    "\n",
    "    def min_sdm(self, mdm):\n",
    "        minz = minimize(self.lsdm̂_func, x0=[-45], args=(mdm))\n",
    "        return math.pow(10, minz.x[0])\n",
    "\n",
    "    def get_best(self):\n",
    "        Sdm, Bl, Nll = [],[],[]\n",
    "        for mdm in self.Mdm:\n",
    "            sdm = self.min_sdm(mdm)\n",
    "            bl = self.min_bl(mdm, sdm)\n",
    "            nll = self.nlL(mdm, sdm, bl)\n",
    "            Sdm.append(sdm)\n",
    "            Nll.append(nll)\n",
    "            Bl.append(bl)\n",
    "        return (np.array(Sdm), np.array(Bl), np.array(Nll))"
   ]
  },
  {
   "cell_type": "code",
   "execution_count": 867,
   "id": "124e7be6-9ba1-4bf9-9b3c-64e6701234cc",
   "metadata": {},
   "outputs": [
    {
     "name": "stdout",
     "output_type": "stream",
     "text": [
      "CPU times: user 5.04 s, sys: 495 ms, total: 5.54 s\n",
      "Wall time: 4.89 s\n"
     ]
    },
    {
     "data": {
      "image/png": "[encoded data removed]",
      "text/plain": [
       "<Figure size 500x400 with 1 Axes>"
      ]
     },
     "metadata": {},
     "output_type": "display_data"
    }
   ],
   "source": [
    "%%time\n",
    "nr = Nr('Xe', vE=mwd['vE'], vdfE=mwd['vdfE_50'], \n",
    "        vesc=p50(mwd['vescs']), vcirc=p50(mwd['vcircs']),\n",
    "        rhosun=p50(mwd['rhosuns']), Ethr=0.1, Eroi=5.0, ω=10.0)\n",
    "\n",
    "mock = nr.mocksample(4., 1e-45, 0.001, Ntot='mean', seed=5100)\n",
    "mle1 = MLE(mock, nr)\n",
    "sol1 = mle1.get_limits()\n",
    "\n",
    "fig,ax = plt.subplots(figsize=(5,4))\n",
    "ax.plot(sol1[0], sol1[1], 'k-', sol1[0], sol1[2], 'k-')\n",
    "ax.fill_between(*sol1, color='k', alpha=0.2)\n",
    "ax.set_xscale('log')\n",
    "ax.set_yscale('log')\n",
    "ax.scatter(4., 1e-45, c='r', marker='s')\n",
    "ax.scatter(mle1.mdm_min, mle1.sdm_min, c='k', marker='x')\n",
    "plt.savefig('../Output/figures/nuclear/fig1.png', bbox_inches = 'tight', dpi=300)"
   ]
  },
  {
   "cell_type": "code",
   "execution_count": null,
   "id": "0f812629-4399-4b1a-9dae-7ef07de14397",
   "metadata": {},
   "outputs": [],
   "source": [
    "for gal in ['MW']+mwgals:\n",
    "    chain_len = \n",
    "    mle = MLE(mock, nr_init, globalmin='precise', likelihood=2, \n",
    "              gal=gal, idx=ci)"
   ]
  },
  {
   "cell_type": "code",
   "execution_count": null,
   "id": "b99605e3-eddf-427f-a449-9a0bf0bdabb0",
   "metadata": {},
   "outputs": [],
   "source": []
  },
  {
   "cell_type": "code",
   "execution_count": null,
   "id": "746c42bf-c252-4299-824f-ee2db43cbf46",
   "metadata": {},
   "outputs": [],
   "source": []
  },
  {
   "cell_type": "code",
   "execution_count": null,
   "id": "4f21dbd6-5dc4-4be8-862d-ed3fec0b7d31",
   "metadata": {},
   "outputs": [],
   "source": []
  },
  {
   "cell_type": "code",
   "execution_count": null,
   "id": "1af54ecc-8c4c-468f-9885-d35605be7903",
   "metadata": {},
   "outputs": [],
   "source": []
  },
  {
   "cell_type": "code",
   "execution_count": null,
   "id": "72eddb29-6a36-42ce-a244-2188ae4651ad",
   "metadata": {},
   "outputs": [],
   "source": []
  },
  {
   "cell_type": "code",
   "execution_count": null,
   "id": "463eea44-630f-4a66-9fc9-db6317a76d5b",
   "metadata": {},
   "outputs": [],
   "source": []
  },
  {
   "cell_type": "code",
   "execution_count": null,
   "id": "c75b0d96-50ca-4d0e-bb29-67a87469b80a",
   "metadata": {},
   "outputs": [],
   "source": []
  },
  {
   "cell_type": "code",
   "execution_count": null,
   "id": "80aaeeaa-e620-42ab-bd2d-04eee58b3f39",
   "metadata": {},
   "outputs": [],
   "source": []
  },
  {
   "cell_type": "code",
   "execution_count": null,
   "id": "383cec34-8e92-436a-b163-c0f244e475ba",
   "metadata": {},
   "outputs": [],
   "source": []
  },
  {
   "cell_type": "code",
   "execution_count": 605,
   "id": "9ef2d97a-cfc2-416c-b4bd-f93952ef3e5b",
   "metadata": {},
   "outputs": [
    {
     "data": {
      "application/vnd.jupyter.widget-view+json": {
       "model_id": "d0df0ca4209c4edea1b5bfb27ddedae0",
       "version_major": 2,
       "version_minor": 0
      },
      "text/plain": [
       "0it [00:00, ?it/s]"
      ]
     },
     "metadata": {},
     "output_type": "display_data"
    }
   ],
   "source": [
    "Mgrid, Sgrid = np.zeros([Ngrid]*2), np.zeros([Ngrid]*2)\n",
    "Bgrid, Lgrid = np.zeros([Ngrid]*2), np.zeros([Ngrid]*2)\n",
    "\n",
    "for i,mdm in tqdm(enumerate(Mdm)):\n",
    "    λsg_0 = nr.binTot(mdm, 1e-46, 0., mock['bin_edges'])['Neachbin']\n",
    "    for j,sdm in enumerate(Sdm):\n",
    "        λsg = λsg_0*sdm/1e-46\n",
    "        blm = fsolve(bl̂_func, x0=0.001, args=(nobs, λsg, ΔE,\n",
    "                     nr.exposure), full_output=1)\n",
    "        Mgrid[i,j] = mdm\n",
    "        Sgrid[i,j] = sdm\n",
    "        Bgrid[i,j] = blm[0][0]\n",
    "        Lgrid[i,j] = nlL1(blm[0][0], nobs, λsg, nr)\n",
    "\n",
    "stat_res = {'Mgrid': Mgrid,\n",
    "            'Sgrid': Sgrid,\n",
    "            'Bgrid': Bgrid,\n",
    "            'Lgrid': Lgrid,\n",
    "            'indx': np.where(Lgrid == np.min(Lgrid)),\n",
    "            'mdm_best': Mgrid[indx],\n",
    "            'sdm_best': Sgrid[indx],\n",
    "            'mdm_orig': 4.0,\n",
    "            'sdm_orig': 1e-45,\n",
    "            'll_min': np.min(Lgrid),\n",
    "            'bl_min': Bgrid[indx], \n",
    "            'nr': nr,\n",
    "            'mock': mock,\n",
    "            'ΔE': ΔE,\n",
    "            'Tgrid': 2*(Lgrid - np.min(Lgrid))}\n",
    "# nrd['pfl']['nlL1'] = stat_res\n",
    "# pickle.dump(nrd, open('../Output/Nuclear_dict.pkl','wb'))"
   ]
  },
  {
   "cell_type": "markdown",
   "id": "59ce183f-b5ce-4c22-b0cd-803947468c3b",
   "metadata": {},
   "source": [
    "### (ii) mass modelling RC uncertainity: $$\\mathcal{L}_2^{(i)}(m, \\sigma_p, b_l, \\Theta_\\mathrm{MW}) = \\mathcal{L}_1(m,\\, \\sigma_p,\\, b_l,\\, \\Theta^{(i)}_\\mathrm{MW})\\times \\mathrm{P}(\\Theta^{(i)}_\\mathrm{MW}|D_\\mathrm{MW}); \\,\\, \\text{where, } \\, i = 0, 1, ..., 7\\, \\text{and}, i = 0 \\, \\text{corresponds to the case of MW}$$"
   ]
  },
  {
   "cell_type": "code",
   "execution_count": 613,
   "id": "54016edb-9591-4631-a70b-5680c5dae38a",
   "metadata": {},
   "outputs": [],
   "source": [
    "nr = Nr('Xe', vE=mwd['vE'], vdfE=mwd['vdfE_50'], \n",
    "        vesc=p50(mwd['vescs']), vcirc=p50(mwd['vcircs']),\n",
    "        rhosun=p50(mwd['rhosuns']), Ethr=0.1, Eroi=5.0, ω=10.0)\n",
    "\n",
    "mock = nr.mocksample(4., 1e-45, 0.001, Ntot='mean', seed=5100)\n",
    "nobs = mock['binned_Esample']\n",
    "ΔE = (nr.Eroi - nr.Ethr)/mock['Nbins']\n",
    "\n",
    "def bl̂_func(bl, *args):\n",
    "    nobs, λsg, ΔE, exp = args\n",
    "    return np.mean(nobs/(λsg + exp*bl*ΔE)) - 1.0\n",
    "\n",
    "def nlL2(bl, *args):\n",
    "    nobs, λsg, ΔE, exp, idx, mwD = args\n",
    "    λ = λsg + exp*ΔE*bl\n",
    "    lL = np.sum(nobs*np.log(λ)) - np.sum(λ)\n",
    "    lL += np.log(np.prod(mwD['par_pdfs'][idx]))\n",
    "    return -lL\n",
    "\n",
    "Ngrid = 100\n",
    "Mdm = np.logspace(0,1,Ngrid)\n",
    "Sdm = np.logspace(-46,-44,Ngrid)"
   ]
  },
  {
   "cell_type": "code",
   "execution_count": 618,
   "id": "bdc993c0-d8da-4e29-b6d3-627279e0ea51",
   "metadata": {
    "scrolled": true
   },
   "outputs": [],
   "source": [
    "class PLLrun:\n",
    "    def __init__(self, gal):\n",
    "        self.gal = gal\n",
    "        if gal == 'MW':\n",
    "            self.mwD = mwd\n",
    "        elif gal in mwgals:\n",
    "            self.mwD = mwld[gal]\n",
    "        \n",
    "\n",
    "    def func_pll(self, idx):\n",
    "        nr_ = Nr('Xe', vE=self.mwD['vE'], vdfE=self.mwD['vdfEs'][idx],\n",
    "                 vesc=self.mwD['vescs'][idx], vcirc=self.mwD['vcircs'][idx],\n",
    "                 rhosun=self.mwD['rhosuns'][idx], Ethr=0.1, Eroi=5.0,\n",
    "                 ω=10.0)\n",
    "        Bgrid_idx = np.zeros([Ngrid]*2)\n",
    "        Lgrid_idx = np.zeros([Ngrid]*2)\n",
    "        for i,mdm in enumerate(Mdm):\n",
    "            λsg_0 = nr_.binTot(mdm, 1e-46, 0., mock['bin_edges'])['Neachbin']\n",
    "            for j,sdm in enumerate(Sdm):\n",
    "                λsg = λsg_0*sdm/1e-46\n",
    "                blm = fsolve(bl̂_func, 0.001, args=(nobs, λsg, ΔE, \n",
    "                                                 nr_.exposure))[0]\n",
    "                Bgrid_idx[i,j] = blm\n",
    "                args = (nobs, λsg, ΔE, nr_.exposure, idx, self.mwD)\n",
    "                Lgrid_idx[i,j] = nlL2(blm, *args)\n",
    "        return {'Bgrid_idx': Bgrid_idx,\n",
    "                'Lgrid_idx': Lgrid_idx,\n",
    "                'idx': idx}\n",
    "\n",
    "    def parallel_process(self, Idx):\n",
    "        num_cores = cpu_count()\n",
    "        print (f'process running in {num_cores} cores (total iterations {len(Idx)}) for {self.gal}')\n",
    "        with Pool(processes=num_cores) as pool:\n",
    "            results = list(tqdm(pool.imap(self.func_pll, Idx), total=len(Idx)))\n",
    "        return results\n",
    "\n",
    "    def get_result(self, chain_len=None):\n",
    "        if chain_len == None:\n",
    "            chain_len = len(self.mwD['vdfEs'])\n",
    "        self.results = self.parallel_process(np.arange(chain_len))"
   ]
  },
  {
   "cell_type": "code",
   "execution_count": 619,
   "id": "a5a92923-524f-4b7c-8f4d-216f822e37ef",
   "metadata": {},
   "outputs": [
    {
     "data": {
      "application/vnd.jupyter.widget-view+json": {
       "model_id": "70d20d53f4eb47c483c10c10907c4bb4",
       "version_major": 2,
       "version_minor": 0
      },
      "text/plain": [
       "  0%|          | 0/8 [00:00<?, ?it/s]"
      ]
     },
     "metadata": {},
     "output_type": "display_data"
    },
    {
     "name": "stdout",
     "output_type": "stream",
     "text": [
      "process running in 8 cores (total iterations 4) for MW\n"
     ]
    },
    {
     "data": {
      "application/vnd.jupyter.widget-view+json": {
       "model_id": "ee5a7abd75834af9a3cf69f19c937a76",
       "version_major": 2,
       "version_minor": 0
      },
      "text/plain": [
       "  0%|          | 0/4 [00:00<?, ?it/s]"
      ]
     },
     "metadata": {},
     "output_type": "display_data"
    },
    {
     "name": "stdout",
     "output_type": "stream",
     "text": [
      "process running in 8 cores (total iterations 4) for NGC4013\n"
     ]
    },
    {
     "data": {
      "application/vnd.jupyter.widget-view+json": {
       "model_id": "adab5aa196364a7eabf192590aba2e05",
       "version_major": 2,
       "version_minor": 0
      },
      "text/plain": [
       "  0%|          | 0/4 [00:00<?, ?it/s]"
      ]
     },
     "metadata": {},
     "output_type": "display_data"
    },
    {
     "name": "stdout",
     "output_type": "stream",
     "text": [
      "process running in 8 cores (total iterations 4) for NGC4157\n"
     ]
    },
    {
     "data": {
      "application/vnd.jupyter.widget-view+json": {
       "model_id": "03c9bab33f3240cca4d4fa8af6ad6b7b",
       "version_major": 2,
       "version_minor": 0
      },
      "text/plain": [
       "  0%|          | 0/4 [00:00<?, ?it/s]"
      ]
     },
     "metadata": {},
     "output_type": "display_data"
    },
    {
     "name": "stdout",
     "output_type": "stream",
     "text": [
      "process running in 8 cores (total iterations 4) for NGC4217\n"
     ]
    },
    {
     "data": {
      "application/vnd.jupyter.widget-view+json": {
       "model_id": "87b0697f66024d029cde620c7f03e2c5",
       "version_major": 2,
       "version_minor": 0
      },
      "text/plain": [
       "  0%|          | 0/4 [00:00<?, ?it/s]"
      ]
     },
     "metadata": {},
     "output_type": "display_data"
    },
    {
     "name": "stdout",
     "output_type": "stream",
     "text": [
      "process running in 8 cores (total iterations 4) for NGC5985\n"
     ]
    },
    {
     "data": {
      "application/vnd.jupyter.widget-view+json": {
       "model_id": "9c5a8c2e24c84a678abc90a8994fba8f",
       "version_major": 2,
       "version_minor": 0
      },
      "text/plain": [
       "  0%|          | 0/4 [00:00<?, ?it/s]"
      ]
     },
     "metadata": {},
     "output_type": "display_data"
    },
    {
     "name": "stdout",
     "output_type": "stream",
     "text": [
      "process running in 8 cores (total iterations 4) for NGC7814\n"
     ]
    },
    {
     "data": {
      "application/vnd.jupyter.widget-view+json": {
       "model_id": "323ba49933524c12902a2e5013361880",
       "version_major": 2,
       "version_minor": 0
      },
      "text/plain": [
       "  0%|          | 0/4 [00:00<?, ?it/s]"
      ]
     },
     "metadata": {},
     "output_type": "display_data"
    },
    {
     "name": "stdout",
     "output_type": "stream",
     "text": [
      "process running in 8 cores (total iterations 4) for UGC03546\n"
     ]
    },
    {
     "data": {
      "application/vnd.jupyter.widget-view+json": {
       "model_id": "d8a37bd98eed4ec7842738db17563c18",
       "version_major": 2,
       "version_minor": 0
      },
      "text/plain": [
       "  0%|          | 0/4 [00:00<?, ?it/s]"
      ]
     },
     "metadata": {},
     "output_type": "display_data"
    },
    {
     "name": "stdout",
     "output_type": "stream",
     "text": [
      "process running in 8 cores (total iterations 4) for UGC05253\n"
     ]
    },
    {
     "data": {
      "application/vnd.jupyter.widget-view+json": {
       "model_id": "c515568f59094a2c96a03942866038e2",
       "version_major": 2,
       "version_minor": 0
      },
      "text/plain": [
       "  0%|          | 0/4 [00:00<?, ?it/s]"
      ]
     },
     "metadata": {},
     "output_type": "display_data"
    }
   ],
   "source": [
    "pll_dict = {}\n",
    "for gal in tqdm(['MW']+mwgals):\n",
    "    pll = PLLrun(gal)\n",
    "    pll.get_result(chain_len = 4)\n",
    "    pll_dict[gal] = pll.results"
   ]
  },
  {
   "cell_type": "code",
   "execution_count": 620,
   "id": "abdfc81d-c42d-48f5-8042-de68505c49bf",
   "metadata": {},
   "outputs": [
    {
     "data": {
      "text/plain": [
       "[{'Bgrid_idx': array([[0.0010449 , 0.0010449 , 0.0010449 , ..., 0.0010449 , 0.0010449 ,\n",
       "          0.0010449 ],\n",
       "         [0.0010449 , 0.0010449 , 0.0010449 , ..., 0.0010449 , 0.0010449 ,\n",
       "          0.0010449 ],\n",
       "         [0.0010449 , 0.0010449 , 0.0010449 , ..., 0.0010449 , 0.0010449 ,\n",
       "          0.0010449 ],\n",
       "         ...,\n",
       "         [0.0010315 , 0.00103087, 0.00103022, ..., 0.00052659, 0.00051537,\n",
       "          0.00050411],\n",
       "         [0.00103134, 0.00103071, 0.00103004, ..., 0.00050479, 0.00049279,\n",
       "          0.00048074],\n",
       "         [0.00103117, 0.00103053, 0.00102985, ..., 0.00048177, 0.00046893,\n",
       "          0.00045602]]),\n",
       "  'Lgrid_idx': array([[-92003.85659062, -92003.85659062, -92003.85659062, ...,\n",
       "          -92003.85659062, -92003.85659062, -92003.85659062],\n",
       "         [-92003.85659062, -92003.85659062, -92003.85659062, ...,\n",
       "          -92003.85659062, -92003.85659062, -92003.85659062],\n",
       "         [-92003.85659062, -92003.85659062, -92003.85659062, ...,\n",
       "          -92003.85659062, -92003.85659062, -92003.85659062],\n",
       "         ...,\n",
       "         [-92029.73650028, -92030.87061089, -92032.04926308, ...,\n",
       "          -86071.19355066, -85571.11561781, -85035.82496288],\n",
       "         [-92029.00830251, -92030.11191328, -92031.25900939, ...,\n",
       "          -86155.4968389 , -85658.78890353, -85126.80238608],\n",
       "         [-92028.28755916, -92029.36085026, -92030.47656286, ...,\n",
       "          -86239.34276659, -85746.09349519, -85217.50895407]]),\n",
       "  'idx': 0},\n",
       " {'Bgrid_idx': array([[0.0010449 , 0.0010449 , 0.0010449 , ..., 0.0010449 , 0.0010449 ,\n",
       "          0.0010449 ],\n",
       "         [0.0010449 , 0.0010449 , 0.0010449 , ..., 0.0010449 , 0.0010449 ,\n",
       "          0.0010449 ],\n",
       "         [0.0010449 , 0.0010449 , 0.0010449 , ..., 0.0010449 , 0.0010449 ,\n",
       "          0.0010449 ],\n",
       "         ...,\n",
       "         [0.00103375, 0.00103323, 0.00103268, ..., 0.00059335, 0.00058333,\n",
       "          0.00057328],\n",
       "         [0.00103362, 0.00103309, 0.00103254, ..., 0.00057529, 0.00056462,\n",
       "          0.00055391],\n",
       "         [0.00103347, 0.00103293, 0.00103237, ..., 0.00055616, 0.00054479,\n",
       "          0.00053336]]),\n",
       "  'Lgrid_idx': array([[-92006.6650097 , -92006.6650097 , -92006.6650097 , ...,\n",
       "          -92006.6650097 , -92006.6650097 , -92006.6650097 ],\n",
       "         [-92006.6650097 , -92006.6650097 , -92006.6650097 , ...,\n",
       "          -92006.6650097 , -92006.6650097 , -92006.6650097 ],\n",
       "         [-92006.6650097 , -92006.6650097 , -92006.6650097 , ...,\n",
       "          -92006.6650097 , -92006.6650097 , -92006.6650097 ],\n",
       "         ...,\n",
       "         [-92029.49615851, -92030.5093841 , -92031.56372669, ...,\n",
       "          -87537.32622906, -87145.03828329, -86724.33506401],\n",
       "         [-92028.87185903, -92029.85834622, -92030.8849614 , ...,\n",
       "          -87595.93415206, -87205.99875606, -86787.57612836],\n",
       "         [-92028.25348562, -92029.2133926 , -92030.21243453, ...,\n",
       "          -87653.33790988, -87265.74686493, -86849.59795516]]),\n",
       "  'idx': 1},\n",
       " {'Bgrid_idx': array([[0.0010449 , 0.0010449 , 0.0010449 , ..., 0.0010449 , 0.0010449 ,\n",
       "          0.0010449 ],\n",
       "         [0.0010449 , 0.0010449 , 0.0010449 , ..., 0.0010449 , 0.0010449 ,\n",
       "          0.0010449 ],\n",
       "         [0.0010449 , 0.0010449 , 0.0010449 , ..., 0.0010449 , 0.0010449 ,\n",
       "          0.0010449 ],\n",
       "         ...,\n",
       "         [0.00103331, 0.00103277, 0.0010322 , ..., 0.00058582, 0.00057579,\n",
       "          0.00056574],\n",
       "         [0.00103317, 0.00103262, 0.00103204, ..., 0.00056729, 0.00055661,\n",
       "          0.00054589],\n",
       "         [0.00103302, 0.00103246, 0.00103187, ..., 0.00054765, 0.00053627,\n",
       "          0.00052483]]),\n",
       "  'Lgrid_idx': array([[-92009.53321892, -92009.53321892, -92009.53321892, ...,\n",
       "          -92009.53321892, -92009.53321892, -92009.53321892],\n",
       "         [-92009.53321892, -92009.53321892, -92009.53321892, ...,\n",
       "          -92009.53321892, -92009.53321892, -92009.53321892],\n",
       "         [-92009.53321892, -92009.53321892, -92009.53321892, ...,\n",
       "          -92009.53321892, -92009.53321892, -92009.53321892],\n",
       "         ...,\n",
       "         [-92033.31388675, -92034.36581426, -92035.46007756, ...,\n",
       "          -87196.98677983, -86780.09709873, -86333.3253375 ],\n",
       "         [-92032.6663673 , -92033.69069501, -92034.75635133, ...,\n",
       "          -87256.58179444, -86841.90936202, -86397.26211186],\n",
       "         [-92032.02491237, -92033.02179423, -92034.05899231, ...,\n",
       "          -87314.80097407, -86902.32399603, -86459.77948945]]),\n",
       "  'idx': 2},\n",
       " {'Bgrid_idx': array([[0.0010449 , 0.0010449 , 0.0010449 , ..., 0.0010449 , 0.0010449 ,\n",
       "          0.0010449 ],\n",
       "         [0.0010449 , 0.0010449 , 0.0010449 , ..., 0.0010449 , 0.0010449 ,\n",
       "          0.0010449 ],\n",
       "         [0.0010449 , 0.0010449 , 0.0010449 , ..., 0.0010449 , 0.0010449 ,\n",
       "          0.0010449 ],\n",
       "         ...,\n",
       "         [0.00103234, 0.00103175, 0.00103113, ..., 0.00056876, 0.00055871,\n",
       "          0.00054863],\n",
       "         [0.00103218, 0.00103159, 0.00103096, ..., 0.00054911, 0.00053838,\n",
       "          0.00052762],\n",
       "         [0.00103202, 0.00103141, 0.00103078, ..., 0.00052825, 0.00051679,\n",
       "          0.00050529]]),\n",
       "  'Lgrid_idx': array([[-92009.95285614, -92009.95285614, -92009.95285614, ...,\n",
       "          -92009.95285614, -92009.95285614, -92009.95285614],\n",
       "         [-92009.95285614, -92009.95285614, -92009.95285614, ...,\n",
       "          -92009.95285614, -92009.95285614, -92009.95285614],\n",
       "         [-92009.95285614, -92009.95285614, -92009.95285614, ...,\n",
       "          -92009.95285614, -92009.95285614, -92009.95285614],\n",
       "         ...,\n",
       "         [-92035.66023375, -92036.78947196, -92037.96334485, ...,\n",
       "          -86435.76857258, -85964.65371688, -85460.41942916],\n",
       "         [-92034.96302104, -92036.06285681, -92037.20628691, ...,\n",
       "          -86498.72315153, -86029.61146609, -85527.24678005],\n",
       "         [-92034.27213267, -92035.34270902, -92036.4558315 , ...,\n",
       "          -86560.19782603, -86093.06157491, -85592.53773988]]),\n",
       "  'idx': 3}]"
      ]
     },
     "execution_count": 620,
     "metadata": {},
     "output_type": "execute_result"
    }
   ],
   "source": [
    "pll_dict['MW']"
   ]
  },
  {
   "cell_type": "code",
   "execution_count": 567,
   "id": "348981cf-cb1b-4367-913e-c6ef5dd583da",
   "metadata": {},
   "outputs": [
    {
     "data": {
      "application/vnd.jupyter.widget-view+json": {
       "model_id": "5805ec7df7f5478f98e165b2b892a7dc",
       "version_major": 2,
       "version_minor": 0
      },
      "text/plain": [
       "0it [00:00, ?it/s]"
      ]
     },
     "metadata": {},
     "output_type": "display_data"
    }
   ],
   "source": [
    "Mgrid, Sgrid = np.zeros([Ngrid]*2), np.zeros([Ngrid]*2)\n",
    "Bgrid, Lgrid = np.zeros([Ngrid]*2), np.zeros([Ngrid]*2)\n",
    "\n",
    "nll2d = {}\n",
    "pll_results = nrd['pfl']['pll_results']\n",
    "for i,gal in tqdm(enumerate(['MW']+mwgals)):\n",
    "    pll_res = pll_results[gal]\n",
    "    for i,mdm in enumerate(Mdm):\n",
    "        for j,sdm in enumerate(Sdm):\n",
    "            Larray = np.zeros(len(pll_res))\n",
    "            Barray = np.zeros(len(pll_res))\n",
    "            for k,res in enumerate(pll_res):\n",
    "                Larray[k] = res['Lgrid_idx'][i,j]\n",
    "                Barray[k] = res['Bgrid_idx'][i,j]\n",
    "            Larray[np.isnan(Larray)] = 1e32\n",
    "            Lgrid[i,j] = np.min(Larray)\n",
    "            Bgrid[i,j] = Barray[Larray == np.min(Larray)][0]\n",
    "            Mgrid[i,j] = Mdm[i]\n",
    "            Sgrid[i,j] = Sdm[j]\n",
    "\n",
    "    indx = np.where(Lgrid == np.min(Lgrid))\n",
    "    nll2d[gal] = {'Mgrid': Mgrid,\n",
    "                  'Sgrid': Sgrid,\n",
    "                  'Bgrid': Bgrid,\n",
    "                  'Lgrid': Lgrid,\n",
    "                  'indx': indx,\n",
    "                  'mdm_best': Mgrid[indx],\n",
    "                  'sdm_best': Sgrid[indx],\n",
    "                  'mdm_orig': 4.0,\n",
    "                  'sdm_orig': 1e-45,\n",
    "                  'll_min': np.min(Lgrid),\n",
    "                  'bl_min': Bgrid[indx], \n",
    "                  'nr': nr,\n",
    "                  'mock': mock,\n",
    "                  'ΔE': ΔE,\n",
    "                  'Tgrid': 2*(Lgrid - np.min(Lgrid))}\n",
    "nrd['pfl']['nlL2'] = nll2d"
   ]
  },
  {
   "cell_type": "markdown",
   "id": "15457109-63b9-471c-a506-e517fd5db8fe",
   "metadata": {
    "jp-MarkdownHeadingCollapsed": true
   },
   "source": [
    "### (iii) intrinsic uncertainity: $$\\mathcal{L}_3$$"
   ]
  },
  {
   "cell_type": "code",
   "execution_count": 575,
   "id": "1febb508-8eab-4e3f-9af9-33dd660e564a",
   "metadata": {},
   "outputs": [],
   "source": [
    "ultrares = MW_dict['ultraresults']\n",
    "mw_means = ultrares['posterior']['mean']\n",
    "mw_stdev = ultrares['posterior']['stdev']\n",
    "χd = {'MW': 0}\n",
    "for gal in mwgals:\n",
    "    m200,c200,mdstar,mdbul,mdgas,rdstar,rdbul,rdgas = mw_means\n",
    "    em200,ec200,emdstar,emdbul,emdgas,erdstar,erdbul,erdgas = mw_stdev\n",
    "    gald = sparcd[gal]['cusp_fit']\n",
    "    gm200 = 10**(gald['lm'][0]-12.)\n",
    "    gc200 = gald['c200'][0]\n",
    "    gmdstar = 10**(gald['lmstar'][0]-9.)\n",
    "    gmdbul = 10**(gald['lmbul'][0]-9.)\n",
    "    gmdgas = 10**(gald['lmgas'][0]-9.)\n",
    "    grdstar = gald['rdstar'][0]\n",
    "    grdbul = gald['rdbul'][0]\n",
    "    grdgas = gald['rdgas'][0]\n",
    "    χ = ((m200-gm200)/(em200))**2 + ((c200-gc200)/ec200)**2\n",
    "    χ += ((mdstar-gmdstar)/emdstar)**2 + ((rdstar-grdstar)/erdstar)**2\n",
    "    χ += ((mdgas-gmdgas)/emdgas)**2 + ((rdgas-grdgas)/erdgas)**2\n",
    "    χ += ((mdbul-gmdbul)/emdbul)**2 + ((rdbul-grdbul)/erdbul)**2\n",
    "    χd[gal] = χ"
   ]
  },
  {
   "cell_type": "code",
   "execution_count": 576,
   "id": "2bfe0e4a-edd2-4f33-85b2-52ae745fb0c9",
   "metadata": {},
   "outputs": [
    {
     "data": {
      "application/vnd.jupyter.widget-view+json": {
       "model_id": "f089c7114fa44066ae004be01a96092e",
       "version_major": 2,
       "version_minor": 0
      },
      "text/plain": [
       "0it [00:00, ?it/s]"
      ]
     },
     "metadata": {},
     "output_type": "display_data"
    }
   ],
   "source": [
    "Mgrid, Sgrid, Lgrid = np.zeros([Ngrid]*2), np.zeros([Ngrid]*2), np.zeros([Ngrid]*2)\n",
    "\n",
    "pll_results = nrd['pfl']['pll_results']\n",
    "for mi,mdm in tqdm(enumerate(Mdm)):\n",
    "    for si,sdm in enumerate(Sdm):\n",
    "        Nll = []\n",
    "        for gal in ['MW']+mwgals:\n",
    "            pll_res = pll_results[gal]\n",
    "            for ci in range(len(pll_res)):\n",
    "                nll = pll_res[ci]['Lgrid_idx'][mi,si]\n",
    "                nll += 0 #-χd[gal]/2.\n",
    "                Nll.append(nll)\n",
    "        Nll = np.array(Nll)\n",
    "        Nll[np.isnan(Nll)] = 1e32\n",
    "        Lgrid[mi,si] = np.min(Nll)\n",
    "        Mgrid[mi,si] = mdm\n",
    "        Sgrid[mi,si] = sdm\n",
    "\n",
    "indx = np.where(Lgrid == np.min(Lgrid))\n",
    "nlL3_dict = {'Mgrid': Mgrid,\n",
    "             'Sgrid': Sgrid,\n",
    "             'Bgrid': Bgrid,\n",
    "             'Lgrid': Lgrid,\n",
    "             'indx': indx,\n",
    "             'mdm_best': Mgrid[indx],\n",
    "             'sdm_best': Sgrid[indx],\n",
    "             'mdm_orig': 4.0,\n",
    "             'sdm_orig': 1e-45,\n",
    "             'll_min': np.min(Lgrid),\n",
    "             'Tgrid': 2*(Lgrid - np.min(Lgrid)),\n",
    "             'χd':χd}\n",
    "nrd['pfl']['nlL3'] = nlL3_dict"
   ]
  },
  {
   "cell_type": "markdown",
   "id": "f5ef45d6-1396-4aeb-a995-889f6f591868",
   "metadata": {},
   "source": [
    "# 2. plotting"
   ]
  },
  {
   "cell_type": "code",
   "execution_count": 599,
   "id": "9aa522c8-6d73-47cd-a7cd-75ef3bd9c39d",
   "metadata": {},
   "outputs": [],
   "source": [
    "pll_res = pll_results['MW']"
   ]
  },
  {
   "cell_type": "code",
   "execution_count": 602,
   "id": "fb3bcfb4-78db-46e0-8be6-21e3ef213fe6",
   "metadata": {},
   "outputs": [
    {
     "data": {
      "text/plain": [
       "array([[nan, nan, nan, ..., nan, nan, nan],\n",
       "       [nan, nan, nan, ..., nan, nan, nan],\n",
       "       [nan, nan, nan, ..., nan, nan, nan],\n",
       "       ...,\n",
       "       [nan, nan, nan, ..., nan, nan, nan],\n",
       "       [nan, nan, nan, ..., nan, nan, nan],\n",
       "       [nan, nan, nan, ..., nan, nan, nan]])"
      ]
     },
     "execution_count": 602,
     "metadata": {},
     "output_type": "execute_result"
    }
   ],
   "source": [
    "pll_res[0]['Lgrid_idx']"
   ]
  },
  {
   "cell_type": "code",
   "execution_count": 598,
   "id": "ec570777-f0ee-4d0c-91f4-f55d28c12c87",
   "metadata": {},
   "outputs": [
    {
     "name": "stdout",
     "output_type": "stream",
     "text": [
      "[[1.e+32 1.e+32 1.e+32 ... 1.e+32 1.e+32 1.e+32]\n",
      " [1.e+32 1.e+32 1.e+32 ... 1.e+32 1.e+32 1.e+32]\n",
      " [1.e+32 1.e+32 1.e+32 ... 1.e+32 1.e+32 1.e+32]\n",
      " ...\n",
      " [1.e+32 1.e+32 1.e+32 ... 1.e+32 1.e+32 1.e+32]\n",
      " [1.e+32 1.e+32 1.e+32 ... 1.e+32 1.e+32 1.e+32]\n",
      " [1.e+32 1.e+32 1.e+32 ... 1.e+32 1.e+32 1.e+32]]\n"
     ]
    },
    {
     "data": {
      "image/png": "[encoded data removed]",
      "text/plain": [
       "<Figure size 500x400 with 2 Axes>"
      ]
     },
     "metadata": {},
     "output_type": "display_data"
    }
   ],
   "source": [
    "fig,ax = plt.subplots(figsize = (5,4))\n",
    "\n",
    "nrD = nrd['pfl']['nlL1']\n",
    "ax.contourf(nrD['Mgrid'], nrD['Sgrid'], nrD['Tgrid'], levels=[0,5.99])\n",
    "nrD = nrd['pfl']['nlL2']['MW']\n",
    "cn = ax.contourf(nrD['Mgrid'], nrD['Sgrid'], nrD['Tgrid'])\n",
    "cb = fig.colorbar(cn)\n",
    "print (nrD['Lgrid'])\n",
    "ax.set_xscale('log')\n",
    "ax.set_yscale('log')"
   ]
  },
  {
   "cell_type": "code",
   "execution_count": 591,
   "id": "f260b399-3be6-4228-b179-db1f697f186e",
   "metadata": {},
   "outputs": [
    {
     "data": {
      "image/png": "[encoded data removed]",
      "text/plain": [
       "<Figure size 500x400 with 2 Axes>"
      ]
     },
     "metadata": {},
     "output_type": "display_data"
    }
   ],
   "source": [
    "fig, ax = plt.subplots(figsize=(5,4))\n",
    "\n",
    "tclrs = pa.truncate_colormap(plt.get_cmap('Blues'),0.1,0.9)\n",
    "rhosuns = []\n",
    "for gal in ['MW']+mwgals:\n",
    "    mwD = mwd if gal == 'MW' else mwld[gal]\n",
    "    rhosun = p50(mwD['rhosuns'])\n",
    "    rhosuns.append(rhosun)\n",
    "rhosuns = np.array(rhosuns)\n",
    "normalized_rhosuns = rhosuns/np.max(rhosuns)\n",
    "clrs = tclrs(normalized_rhosuns)\n",
    "\n",
    "for gi,gal in enumerate(['MW']+mwgals):\n",
    "    if gal == 'MW':\n",
    "        continue\n",
    "    if gal in mwgals[:3]:\n",
    "        continue\n",
    "    nrD = nrd['pfl']['nlL2'][gal]\n",
    "    ax.contourf(nrD['Mgrid'], nrD['Sgrid'], nrD['Tgrid'], [0,5.99],\n",
    "                colors=[clrs[gi]], alpha=0.8, zorder=1.)\n",
    "    break\n",
    "\n",
    "sc = ax.scatter([0]*8, [0]*8, c=rhosuns, cmap=tclrs, alpha=0.8, vmax=rhosuns.max())\n",
    "cax = inset_axes(ax, width=\"3%\", height=\"45%\", loc='upper left',bbox_to_anchor=[0.01,0,1,1], bbox_transform=ax.transAxes)\n",
    "cbar = plt.colorbar(sc, cax=cax)\n",
    "cbar.set_label(r'$\\rho_\\odot\\, (\\mathrm{GeV\\, cm^{-3}})$', labelpad=0)\n",
    "cbar.set_ticks(ticks=[0.2,0.4,0.6,0.8], labels=[0.2,0.4,0.6,0.8], size=8)\n",
    "\n",
    "ax.set_xscale('log')\n",
    "ax.set_yscale('log')"
   ]
  },
  {
   "cell_type": "code",
   "execution_count": 446,
   "id": "b7d819bc-effb-4bca-8ac6-c549536b3c00",
   "metadata": {},
   "outputs": [],
   "source": [
    "def plot_CL(nrd, keys = [], gals = [], Mgrids = [], Sgrids = [],\n",
    "            Tgrids = [], fig=None, ax=None, labels=['stat'],\n",
    "            clrs=[], alpha=0.4, zorder=1):\n",
    "    if (not ax):\n",
    "        fig,ax = plt.subplots(figsize=(5,4))\n",
    "\n",
    "    Mgrids, Sgrids, Tgrids = [], [], []\n",
    "    \n",
    "    if len(keys) != 0:\n",
    "        for key in keys:\n",
    "            if key == 'stat':\n",
    "                Mgrids.append(nrd['pfl'][key]['Mgrid'])\n",
    "                Sgrids.append(nrd['pfl'][key]['Sgrid'])\n",
    "                Tgrids.append(nrd['pfl'][key]['Tgrid'])\n",
    "            elif key == 'MW':\n",
    "                Mgrids.append(nrd['pfl'][key]['nlL2']['Mgrid'])\n",
    "                Sgrids.append(nrd['pfl'][key]['nlL2']['Sgrid'])\n",
    "                Tgrids.append(nrd['pfl'][key]['nlL2']['Tgrid'])\n",
    "            elif key == 'MWlike':\n",
    "                Mgrids.append(nrd['pfl'][key]['nlL3']['Mgrid'])\n",
    "                Sgrids.append(nrd['pfl'][key]['nlL3']['Sgrid'])\n",
    "                Tgrids.append(nrd['pfl'][key]['nlL3']['Tgrid'])\n",
    "    if len(gals) != 0:\n",
    "        for gal in gals:\n",
    "            nrd_ = nrd['pfl']['MWlike']['nlL2'][gal]\n",
    "            Mgrids.append(nrd_['Mgrid'])\n",
    "            Sgrids.append(nrd_['Sgrid'])\n",
    "            Tgrids.append(nrd_['Tgrid'])\n",
    "\n",
    "    if len(clrs) == 0:\n",
    "        clrs = plt.rcParams['axes.prop_cycle'].by_key()['color'][:len(Mgrids)]\n",
    "        \n",
    "    for i in range(len(Mgrids)):\n",
    "        ax.contourf(Mgrids[i], Sgrids[i], Tgrids[i], [0, 5.99], \n",
    "                    colors=[clrs[i]], alpha=alpha, \n",
    "                    zorder=zorder)\n",
    "        ax.contour(Mgrids[i], Sgrids[i], Tgrids[i], [0., 5.99],\n",
    "                   colors=[clrs[i]], alpha=alpha,\n",
    "                   zorder=zorder)\n",
    "\n",
    "    # ax.set_xscale('log')\n",
    "    ax.set_yscale('log')\n",
    "    ax.set_xticks([1,2,3,4,5,6,7,8,9,10],\n",
    "                  [1,2,3,4,5,6,7,8,9,10])\n",
    "    ax.set_xlabel('$m$ (GeV)')\n",
    "    ax.set_ylabel('$\\sigma_p \\, (\\mathrm{cm}^2)$')\n",
    "\n",
    "    ax.set_xlim(1.8,5.2)\n",
    "    ax.set_ylim(1e-46, 1e-44)\n",
    "\n",
    "    return fig,ax"
   ]
  },
  {
   "cell_type": "code",
   "execution_count": 447,
   "id": "afa01408-33ae-46be-ba9f-df44723467d6",
   "metadata": {},
   "outputs": [
    {
     "ename": "KeyError",
     "evalue": "'NGC4013'",
     "output_type": "error",
     "traceback": [
      "\u001b[0;31m---------------------------------------------------------------------------\u001b[0m",
      "\u001b[0;31mKeyError\u001b[0m                                  Traceback (most recent call last)",
      "Cell \u001b[0;32mIn[447], line 20\u001b[0m\n\u001b[1;32m     17\u001b[0m rhosunsnorm \u001b[38;5;241m=\u001b[39m rhosuns\u001b[38;5;241m/\u001b[39mnp\u001b[38;5;241m.\u001b[39mmax(rhosuns)\n\u001b[1;32m     18\u001b[0m clrs \u001b[38;5;241m=\u001b[39m tclrs(rhosunsnorm)\n\u001b[0;32m---> 20\u001b[0m fig,ax \u001b[38;5;241m=\u001b[39m \u001b[43mplot_CL\u001b[49m\u001b[43m(\u001b[49m\u001b[43mnrd\u001b[49m\u001b[43m,\u001b[49m\u001b[43m \u001b[49m\u001b[43mgals\u001b[49m\u001b[38;5;241;43m=\u001b[39;49m\u001b[43mmwgals\u001b[49m\u001b[43m,\u001b[49m\u001b[43m \u001b[49m\u001b[43malpha\u001b[49m\u001b[38;5;241;43m=\u001b[39;49m\u001b[38;5;241;43m0.8\u001b[39;49m\u001b[43m,\u001b[49m\n\u001b[1;32m     21\u001b[0m \u001b[43m                 \u001b[49m\u001b[43mzorder\u001b[49m\u001b[38;5;241;43m=\u001b[39;49m\u001b[38;5;241;43m1\u001b[39;49m\u001b[43m,\u001b[49m\u001b[43m \u001b[49m\u001b[43max\u001b[49m\u001b[38;5;241;43m=\u001b[39;49m\u001b[43max\u001b[49m\u001b[43m,\u001b[49m\u001b[43m \u001b[49m\u001b[43mfig\u001b[49m\u001b[38;5;241;43m=\u001b[39;49m\u001b[43mfig\u001b[49m\u001b[43m,\u001b[49m\u001b[43m \u001b[49m\u001b[43mclrs\u001b[49m\u001b[38;5;241;43m=\u001b[39;49m\u001b[43mclrs\u001b[49m\u001b[43m)\u001b[49m\n\u001b[1;32m     23\u001b[0m sc \u001b[38;5;241m=\u001b[39m ax\u001b[38;5;241m.\u001b[39mscatter([\u001b[38;5;241m0\u001b[39m]\u001b[38;5;241m*\u001b[39m\u001b[38;5;241m7\u001b[39m, [\u001b[38;5;241m0\u001b[39m]\u001b[38;5;241m*\u001b[39m\u001b[38;5;241m7\u001b[39m, c\u001b[38;5;241m=\u001b[39mrhosuns, cmap\u001b[38;5;241m=\u001b[39mtclrs, alpha\u001b[38;5;241m=\u001b[39m\u001b[38;5;241m0.8\u001b[39m, vmax\u001b[38;5;241m=\u001b[39mrhosuns\u001b[38;5;241m.\u001b[39mmax())\n\u001b[1;32m     24\u001b[0m cax \u001b[38;5;241m=\u001b[39m inset_axes(ax, width\u001b[38;5;241m=\u001b[39m\u001b[38;5;124m\"\u001b[39m\u001b[38;5;124m3\u001b[39m\u001b[38;5;124m%\u001b[39m\u001b[38;5;124m\"\u001b[39m, height\u001b[38;5;241m=\u001b[39m\u001b[38;5;124m\"\u001b[39m\u001b[38;5;124m45\u001b[39m\u001b[38;5;124m%\u001b[39m\u001b[38;5;124m\"\u001b[39m, loc\u001b[38;5;241m=\u001b[39m\u001b[38;5;124m'\u001b[39m\u001b[38;5;124mupper left\u001b[39m\u001b[38;5;124m'\u001b[39m,bbox_to_anchor\u001b[38;5;241m=\u001b[39m[\u001b[38;5;241m0.01\u001b[39m,\u001b[38;5;241m0\u001b[39m,\u001b[38;5;241m1\u001b[39m,\u001b[38;5;241m1\u001b[39m], bbox_transform\u001b[38;5;241m=\u001b[39max\u001b[38;5;241m.\u001b[39mtransAxes)\n",
      "Cell \u001b[0;32mIn[446], line 25\u001b[0m, in \u001b[0;36mplot_CL\u001b[0;34m(nrd, keys, gals, Mgrids, Sgrids, Tgrids, fig, ax, labels, clrs, alpha, zorder)\u001b[0m\n\u001b[1;32m     23\u001b[0m \u001b[38;5;28;01mif\u001b[39;00m \u001b[38;5;28mlen\u001b[39m(gals) \u001b[38;5;241m!=\u001b[39m \u001b[38;5;241m0\u001b[39m:\n\u001b[1;32m     24\u001b[0m     \u001b[38;5;28;01mfor\u001b[39;00m gal \u001b[38;5;129;01min\u001b[39;00m gals:\n\u001b[0;32m---> 25\u001b[0m         nrd_ \u001b[38;5;241m=\u001b[39m \u001b[43mnrd\u001b[49m\u001b[43m[\u001b[49m\u001b[38;5;124;43m'\u001b[39;49m\u001b[38;5;124;43mpfl\u001b[39;49m\u001b[38;5;124;43m'\u001b[39;49m\u001b[43m]\u001b[49m\u001b[43m[\u001b[49m\u001b[38;5;124;43m'\u001b[39;49m\u001b[38;5;124;43mMWlike\u001b[39;49m\u001b[38;5;124;43m'\u001b[39;49m\u001b[43m]\u001b[49m\u001b[43m[\u001b[49m\u001b[38;5;124;43m'\u001b[39;49m\u001b[38;5;124;43mnlL2\u001b[39;49m\u001b[38;5;124;43m'\u001b[39;49m\u001b[43m]\u001b[49m\u001b[43m[\u001b[49m\u001b[43mgal\u001b[49m\u001b[43m]\u001b[49m\n\u001b[1;32m     26\u001b[0m         Mgrids\u001b[38;5;241m.\u001b[39mappend(nrd_[\u001b[38;5;124m'\u001b[39m\u001b[38;5;124mMgrid\u001b[39m\u001b[38;5;124m'\u001b[39m])\n\u001b[1;32m     27\u001b[0m         Sgrids\u001b[38;5;241m.\u001b[39mappend(nrd_[\u001b[38;5;124m'\u001b[39m\u001b[38;5;124mSgrid\u001b[39m\u001b[38;5;124m'\u001b[39m])\n",
      "\u001b[0;31mKeyError\u001b[0m: 'NGC4013'"
     ]
    },
    {
     "data": {
      "image/png": "[encoded data removed]",
      "text/plain": [
       "<Figure size 500x400 with 1 Axes>"
      ]
     },
     "metadata": {},
     "output_type": "display_data"
    }
   ],
   "source": [
    "import project.plot_assist as pa\n",
    "from mpl_toolkits.axes_grid1.inset_locator import inset_axes\n",
    "\n",
    "fig,ax = plt.subplots(figsize=(5,4))\n",
    "\n",
    "fig,ax = plot_CL(nrd, keys=['stat'], alpha=0.8,\n",
    "                 ax=ax, fig=fig, clrs=['k'], zorder=3)\n",
    "fig,ax = plot_CL(nrd, keys=['MW'], alpha=0.5,\n",
    "                 zorder=2, ax=ax, fig=fig, clrs=['r'])\n",
    "\n",
    "tclrs = pa.truncate_colormap(plt.get_cmap('Blues'),0.1,0.9)\n",
    "rhosuns = []\n",
    "for i,gal in enumerate(mwgals):\n",
    "    rhosun = p50(mwld[gal]['rhosuns'])\n",
    "    rhosuns.append(rhosun)\n",
    "rhosuns = np.array(rhosuns)\n",
    "rhosunsnorm = rhosuns/np.max(rhosuns)\n",
    "clrs = tclrs(rhosunsnorm)\n",
    "\n",
    "fig,ax = plot_CL(nrd, gals=mwgals, alpha=0.8,\n",
    "                 zorder=1, ax=ax, fig=fig, clrs=clrs)\n",
    "\n",
    "sc = ax.scatter([0]*7, [0]*7, c=rhosuns, cmap=tclrs, alpha=0.8, vmax=rhosuns.max())\n",
    "cax = inset_axes(ax, width=\"3%\", height=\"45%\", loc='upper left',bbox_to_anchor=[0.01,0,1,1], bbox_transform=ax.transAxes)\n",
    "cbar = plt.colorbar(sc, cax=cax)\n",
    "cbar.set_label(r'$\\rho_\\odot\\, (\\mathrm{GeV\\, cm^{-3}})$', labelpad=0)\n",
    "cbar.set_ticks(ticks=[0.2,0.4,0.6,0.8], labels=[0.2,0.4,0.6,0.8], size=8)\n",
    "\n",
    "ax.fill_between([0]*2, [0]*2, [0]*2, color='k', alpha=0.8, label='$\\Delta m_\\mathrm{stat}$')\n",
    "ax.fill_between([0]*2, [0]*2, [0]*2, color='r', alpha=0.5, label='$\\Delta m_\\mathrm{stat} + \\Delta m_\\mathrm{MW}$')\n",
    "ax.fill_between([0]*2, [0]*2, [0]*2, color=tclrs(0.5), alpha=0.5, label='$\\Delta m_\\mathrm{stat} + \\Delta m_\\mathrm{MW-like}$')\n",
    "ax.legend(frameon=False, prop={'size':9}, loc='upper right');\n",
    "\n",
    "# plt.savefig('../Output/figures/nuclear/test_stat_blMWL.png',bbox_inches = 'tight', dpi=300)"
   ]
  }
 ],
 "metadata": {
  "kernelspec": {
   "display_name": "Python 3 (ipykernel)",
   "language": "python",
   "name": "python3"
  },
  "language_info": {
   "codemirror_mode": {
    "name": "ipython",
    "version": 3
   },
   "file_extension": ".py",
   "mimetype": "text/x-python",
   "name": "python",
   "nbconvert_exporter": "python",
   "pygments_lexer": "ipython3",
   "version": "3.10.12"
  }
 },
 "nbformat": 4,
 "nbformat_minor": 5
}
